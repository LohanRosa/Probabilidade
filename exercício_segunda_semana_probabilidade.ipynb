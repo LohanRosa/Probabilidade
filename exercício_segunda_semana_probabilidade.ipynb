{
  "nbformat": 4,
  "nbformat_minor": 0,
  "metadata": {
    "colab": {
      "provenance": [],
      "authorship_tag": "ABX9TyO5ZUQOwWskifHNY4jccISg",
      "include_colab_link": true
    },
    "kernelspec": {
      "name": "python3",
      "display_name": "Python 3"
    },
    "language_info": {
      "name": "python"
    }
  },
  "cells": [
    {
      "cell_type": "markdown",
      "metadata": {
        "id": "view-in-github",
        "colab_type": "text"
      },
      "source": [
        "<a href=\"https://colab.research.google.com/github/LohanRosa/Probabilidade/blob/main/exerc%C3%ADcio_segunda_semana_probabilidade.ipynb\" target=\"_parent\"><img src=\"https://colab.research.google.com/assets/colab-badge.svg\" alt=\"Open In Colab\"/></a>"
      ]
    },
    {
      "cell_type": "code",
      "execution_count": null,
      "metadata": {
        "id": "5XA5NeHbIZhH"
      },
      "outputs": [],
      "source": [
        "import numpy as np\n",
        "import pandas as pd\n",
        "import statistics as st"
      ]
    },
    {
      "cell_type": "markdown",
      "source": [
        "exercicio da segunda semana de estatistica. esté é o numero 3. (teste)\n"
      ],
      "metadata": {
        "id": "VKRYdF__IqWF"
      }
    },
    {
      "cell_type": "code",
      "source": [
        "P_as = 4/52\n",
        "P_rei_dado_as = 4/51\n",
        "P_as_e_rei = (P_as * P_rei_dado_as)\n",
        "\n",
        "print(f\" A probabilidade é de {P_as_e_rei:.2%}\")"
      ],
      "metadata": {
        "colab": {
          "base_uri": "https://localhost:8080/"
        },
        "id": "Pvl7Hv9kInmo",
        "outputId": "f66da1c8-68de-49f2-9796-5e9e40ebe481"
      },
      "execution_count": null,
      "outputs": [
        {
          "output_type": "stream",
          "name": "stdout",
          "text": [
            " A probabilidade é de 0.60%\n"
          ]
        }
      ]
    },
    {
      "cell_type": "markdown",
      "source": [
        "1) Considere a lista abaixo representando a idade de um grupo de pessoas:\n",
        "idades = [20, 18, 21, 19, 20, 23, 22, 20, 24, 25, 19, 21, 20, 30, 22, 21, 19, 20, 23, 24, 22, 20, 23]\n",
        "\n",
        "Calcule a média, mediana e moda das idades."
      ],
      "metadata": {
        "id": "lMBsnzHOKuq7"
      }
    },
    {
      "cell_type": "code",
      "source": [
        "idades = [20, 18, 21, 19, 20, 23, 22, 20, 24, 25, 19, 21, 20, 30, 22, 21, 19, 20, 23, 24, 22, 20, 23]\n",
        "\n",
        "media = round(np.mean(idades), 1)\n",
        "print(\"A média é:\",(media))\n",
        "\n",
        "mediana = np.median(idades)\n",
        "print(\"A média é:\",(mediana))\n",
        "\n",
        "moda = st.mode(idades)\n",
        "print(\"A moda é:\", (moda))"
      ],
      "metadata": {
        "colab": {
          "base_uri": "https://localhost:8080/"
        },
        "id": "i9-y6OoTI4A3",
        "outputId": "439a3bc3-79a1-4fc3-a7a5-a9c8918335a3"
      },
      "execution_count": null,
      "outputs": [
        {
          "output_type": "stream",
          "name": "stdout",
          "text": [
            "A média é: 21.6\n",
            "A média é: 21.0\n",
            "A moda é: 20\n"
          ]
        }
      ]
    },
    {
      "cell_type": "markdown",
      "source": [
        "Uma loja de eletrônicos deseja calcular o preço médio de venda de um produto específico. Os preços dos últimos 10 produtos vendidos foram: 200, 250, 220, 180, 200, 250, 230, 200, 200, 210, 215. Qual é a média, moda e mediana dos preços de venda desses produtos?"
      ],
      "metadata": {
        "id": "amu4l4bOPGKA"
      }
    },
    {
      "cell_type": "code",
      "source": [
        "sold = [200, 250, 220, 180, 200, 250, 230, 200, 200, 210, 215]\n",
        "\n",
        "media = round(np.mean(sold), 1)\n",
        "print(media)\n",
        "\n",
        "mediana = np.median(sold)\n",
        "print(mediana)\n",
        "\n",
        "moda = st.mode(sold)\n",
        "print(moda)"
      ],
      "metadata": {
        "colab": {
          "base_uri": "https://localhost:8080/"
        },
        "id": "BH-tSKZtK_qH",
        "outputId": "faa255fb-0b4a-4621-d529-347bebed227a"
      },
      "execution_count": null,
      "outputs": [
        {
          "output_type": "stream",
          "name": "stdout",
          "text": [
            "214.1\n",
            "210.0\n",
            "200\n"
          ]
        }
      ]
    },
    {
      "cell_type": "markdown",
      "source": [
        "Suponha que em um jogo de cartas, você recebe duas cartas. Qual é a probabilidade de obter um Ás e um Rei?"
      ],
      "metadata": {
        "id": "q6B0LqAXP3Vh"
      }
    },
    {
      "cell_type": "code",
      "source": [
        "#  Portanto, a probabilidade de obter um Ás e um Rei é a probabilidade da intersecção desses dois eventos:\n",
        "P_as = 4/52\n",
        "P_rei_dado_as = 4/51\n",
        "P_as_e_rei = P_as * P_rei_dado_as\n",
        "\n",
        "print(f\"A probabilidade é de {P_as_e_rei:.2%}\")\n"
      ],
      "metadata": {
        "colab": {
          "base_uri": "https://localhost:8080/"
        },
        "id": "SgjEw3bdPoUo",
        "outputId": "d78d5341-66cb-4e67-8271-047b911d87e6"
      },
      "execution_count": null,
      "outputs": [
        {
          "output_type": "stream",
          "name": "stdout",
          "text": [
            "A probabilidade é de 0.60%\n"
          ]
        }
      ]
    },
    {
      "cell_type": "markdown",
      "source": [
        "Suponha que em uma determinada cidade, 30% dos motoristas usam o cinto de segurança e 5% dos motoristas bebem e dirigem. Qual é a probabilidade de um motorista selecionado aleatoriamente usar o cinto de segurança e não beber e dirigir?"
      ],
      "metadata": {
        "id": "FrCqMo7qQnVu"
      }
    },
    {
      "cell_type": "code",
      "source": [
        "cinto_segurança = 0.3\n",
        "bebem_dirigem = 0.05\n",
        "n_beber = 1-0.05\n",
        "cinto_não_beber_dirigir = cinto_segurança * n_beber\n",
        "\n",
        "print(f\"A probabilidade é de {cinto_não_beber_dirigir: .2%}\")"
      ],
      "metadata": {
        "colab": {
          "base_uri": "https://localhost:8080/"
        },
        "id": "1vVM8AShQUu4",
        "outputId": "e8159857-a7f1-4b90-dd79-d9facc53532c"
      },
      "execution_count": null,
      "outputs": [
        {
          "output_type": "stream",
          "name": "stdout",
          "text": [
            "A probabilidade é de  28.50%\n"
          ]
        }
      ]
    },
    {
      "cell_type": "markdown",
      "source": [
        "Suponha que 60% dos alunos de uma escola jogam futebol e 40% dos alunos jogam basquete. Se 25% dos alunos jogam futebol e basquete, qual é a probabilidade de um aluno selecionado aleatoriamente jogar apenas futebol?"
      ],
      "metadata": {
        "id": "Dbnxm16OR9Ue"
      }
    },
    {
      "cell_type": "code",
      "source": [
        "futebol = 0.6\n",
        "basquete = 0.4\n",
        "futebol_basquete = 0.25\n",
        "\n",
        "apenas_futebol = (futebol - futebol_basquete)*100\n",
        "print(apenas_futebol)"
      ],
      "metadata": {
        "colab": {
          "base_uri": "https://localhost:8080/"
        },
        "id": "DbGCko9WRVCQ",
        "outputId": "de7cd852-477d-42a2-d7fc-8d2a1a351a0f"
      },
      "execution_count": null,
      "outputs": [
        {
          "output_type": "stream",
          "name": "stdout",
          "text": [
            "35.0\n"
          ]
        }
      ]
    },
    {
      "cell_type": "markdown",
      "source": [
        "Uma pesquisa foi realizada para determinar quantos estudantes em uma escola gostam de matemática ou física. Os resultados mostram que 60% dos alunos gostam de matemática e 40% gostam de física. Além disso, 20% dos alunos gostam tanto de matemática quanto de física. Qual é a probabilidade de um aluno selecionado aleatoriamente gostar de matemática ou física?"
      ],
      "metadata": {
        "id": "UB7jBBISUMKY"
      }
    },
    {
      "cell_type": "code",
      "source": [
        "matematica = 0.6\n",
        "fisica = 0.4\n",
        "matematica_fisica = 0.2\n",
        "matematica_ou_fisica = matematica + fisica - matematica_fisica\n",
        "\n",
        "print(matematica_ou_fisica)"
      ],
      "metadata": {
        "colab": {
          "base_uri": "https://localhost:8080/"
        },
        "id": "z6wohjArUAlB",
        "outputId": "74f46062-11d0-4478-c15d-c4ec48ecb40b"
      },
      "execution_count": null,
      "outputs": [
        {
          "output_type": "stream",
          "name": "stdout",
          "text": [
            "0.8\n"
          ]
        }
      ]
    },
    {
      "cell_type": "markdown",
      "source": [
        "Uma pesquisa foi realizada para determinar quantos clientes de um supermercado compram leite ou pão. Os resultados mostram que 70% dos clientes compram leite e 60% compram pão. Além disso, 30% dos clientes compram tanto leite quanto pão. Qual é a probabilidade de um cliente selecionado aleatoriamente comprar leite ou pão?"
      ],
      "metadata": {
        "id": "rAcFlqDXVHnF"
      }
    },
    {
      "cell_type": "code",
      "source": [
        "leite = 0.7\n",
        "pao = 0.6\n",
        "intersecçao = 0.3\n",
        "\n",
        "leite_ou_pao = leite + pao - intersecçao\n",
        "print(leite_ou_pao)"
      ],
      "metadata": {
        "colab": {
          "base_uri": "https://localhost:8080/"
        },
        "id": "0s_i4OqeVCmp",
        "outputId": "4c5d890f-ce7d-4379-e2f7-b2c0540e1bfa"
      },
      "execution_count": null,
      "outputs": [
        {
          "output_type": "stream",
          "name": "stdout",
          "text": [
            "0.9999999999999998\n"
          ]
        }
      ]
    },
    {
      "cell_type": "markdown",
      "source": [
        "Um grupo de 50 pessoas foi perguntado se preferem cerveja ou vinho. Os resultados mostram que 30 pessoas preferem cerveja e 20 preferem vinho. Além disso, 15 pessoas preferem tanto cerveja quanto vinho. Qual é a probabilidade de uma pessoa selecionada aleatoriamente preferir cerveja ou vinho?"
      ],
      "metadata": {
        "id": "WY7TI_QxV3s-"
      }
    },
    {
      "cell_type": "code",
      "source": [
        "cerveja = 30/50\n",
        "vinho = 25/50\n",
        "cerveja_vinho = 15/50\n",
        "cerveja_ou_vinho = cerveja + vinho - cerveja_vinho\n",
        "\n",
        "print(cerveja_ou_vinho)"
      ],
      "metadata": {
        "colab": {
          "base_uri": "https://localhost:8080/"
        },
        "id": "Gm_41q8gVigp",
        "outputId": "21e5352e-d86e-4836-9920-32a2d76f1988"
      },
      "execution_count": null,
      "outputs": [
        {
          "output_type": "stream",
          "name": "stdout",
          "text": [
            "0.8\n"
          ]
        }
      ]
    },
    {
      "cell_type": "code",
      "source": [],
      "metadata": {
        "id": "Hk_278rlWbIp"
      },
      "execution_count": null,
      "outputs": []
    }
  ]
}